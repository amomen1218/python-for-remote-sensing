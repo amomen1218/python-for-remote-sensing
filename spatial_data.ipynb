{
  "nbformat": 4,
  "nbformat_minor": 0,
  "metadata": {
    "colab": {
      "provenance": [],
      "authorship_tag": "ABX9TyPZdPVyAVCDmefNXJUqTZJB",
      "include_colab_link": true
    },
    "kernelspec": {
      "name": "python3",
      "display_name": "Python 3"
    },
    "language_info": {
      "name": "python"
    }
  },
  "cells": [
    {
      "cell_type": "markdown",
      "metadata": {
        "id": "view-in-github",
        "colab_type": "text"
      },
      "source": [
        "<a href=\"https://colab.research.google.com/github/amomen1218/python-for-remote-sensing/blob/main/spatial_data.ipynb\" target=\"_parent\"><img src=\"https://colab.research.google.com/assets/colab-badge.svg\" alt=\"Open In Colab\"/></a>"
      ]
    },
    {
      "cell_type": "code",
      "execution_count": 4,
      "metadata": {
        "colab": {
          "base_uri": "https://localhost:8080/"
        },
        "id": "Z6OUjxdLn-wG",
        "outputId": "fc98b5fc-63b1-4d9c-84c4-a59b07352abb"
      },
      "outputs": [
        {
          "output_type": "stream",
          "name": "stdout",
          "text": [
            "                          name              geometry\n",
            "0  washington\\n (38.90,-77.03)   POINT (-77.03 98.9)\n",
            "1    bltimore\\n (39.29,-77.03)  POINT (-77.03 39.29)\n",
            "2    fredrick\\n (39.41,-77.40)   POINT (-77.4 39.41)\n"
          ]
        }
      ],
      "source": [
        "import geopandas as gpd\n",
        "import matplotlib.pyplot as plt\n",
        "from shapely.geometry import Point\n",
        "d = {'name':['washington\\n (38.90,-77.03)', 'bltimore\\n (39.29,-77.03)', 'fredrick\\n (39.41,-77.40)'],\n",
        "     'geometry':[Point (-77.03,98.90), Point(-77.03,39.29), Point(-77.40,39.41)]}\n",
        "gdf = gpd.GeoDataFrame(d, crs = \"EPSG:4326\")\n",
        "print (gdf)"
      ]
    },
    {
      "cell_type": "markdown",
      "source": [
        "using geopandas and shapely libraries to create GeoDataFrame that contains point"
      ],
      "metadata": {
        "id": "QgYwmsPDoObV"
      }
    }
  ]
}