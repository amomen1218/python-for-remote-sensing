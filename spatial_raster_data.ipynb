{
  "cells": [
    {
      "cell_type": "markdown",
      "metadata": {
        "id": "view-in-github",
        "colab_type": "text"
      },
      "source": [
        "<a href=\"https://colab.research.google.com/github/amomen1218/python-for-remote-sensing/blob/main/spatial_raster_data.ipynb\" target=\"_parent\"><img src=\"https://colab.research.google.com/assets/colab-badge.svg\" alt=\"Open In Colab\"/></a>"
      ]
    },
    {
      "cell_type": "code",
      "execution_count": 4,
      "id": "7ee3cd6c",
      "metadata": {
        "colab": {
          "base_uri": "https://localhost:8080/"
        },
        "id": "7ee3cd6c",
        "outputId": "1ab24dd6-cd0f-477b-f16d-94988fa3fcaf"
      },
      "outputs": [
        {
          "output_type": "execute_result",
          "data": {
            "text/plain": [
              "(array([[-90., -54., -18.,  18.,  54.,  90.],\n",
              "        [-90., -54., -18.,  18.,  54.,  90.],\n",
              "        [-90., -54., -18.,  18.,  54.,  90.],\n",
              "        [-90., -54., -18.,  18.,  54.,  90.],\n",
              "        [-90., -54., -18.,  18.,  54.,  90.],\n",
              "        [-90., -54., -18.,  18.,  54.,  90.]]),\n",
              " array([[ 90.,  90.,  90.,  90.,  90.,  90.],\n",
              "        [ 54.,  54.,  54.,  54.,  54.,  54.],\n",
              "        [ 18.,  18.,  18.,  18.,  18.,  18.],\n",
              "        [-18., -18., -18., -18., -18., -18.],\n",
              "        [-54., -54., -54., -54., -54., -54.],\n",
              "        [-90., -90., -90., -90., -90., -90.]]))"
            ]
          },
          "metadata": {},
          "execution_count": 4
        }
      ],
      "source": [
        "import numpy as np\n",
        "x = np.linspace(-90, 90, 6)\n",
        "y = np.linspace(90, -90, 6)\n",
        "X, Y = np.meshgrid(x, y)\n",
        "X"
      ]
    },
    {
      "cell_type": "markdown",
      "id": "c8bb0304",
      "metadata": {
        "id": "c8bb0304"
      },
      "source": [
        "Let's generate some data representing temperature and store it an array `Z`"
      ]
    },
    {
      "cell_type": "code",
      "execution_count": 22,
      "id": "889209e8",
      "metadata": {
        "colab": {
          "base_uri": "https://localhost:8080/",
          "height": 452
        },
        "id": "889209e8",
        "outputId": "46a1a121-e5f3-468c-a2d9-c7c70dd3cece"
      },
      "outputs": [
        {
          "output_type": "display_data",
          "data": {
            "text/plain": [
              "<Figure size 640x480 with 1 Axes>"
            ],
            "image/png": "[encoded data removed]"
          },
          "metadata": {}
        }
      ],
      "source": [
        "import matplotlib.pyplot as plt\n",
        "\n",
        "Z1 =  np.abs(((X - 1) ** 2 + (Y - 1) ** 2) / 1 ** 2)\n",
        "Z2 =  np.abs(((X + 1) ** 2 + (Y + 1) ** 2) / 1 ** 2)\n",
        "Z =  (Z1 - Z2)\n",
        "\n",
        "plt.imshow(Z)\n",
        "plt.title(\"Temperature\")\n",
        "plt.show()"
      ]
    },
    {
      "cell_type": "code",
      "execution_count": 28,
      "id": "f25864c7",
      "metadata": {
        "colab": {
          "base_uri": "https://localhost:8080/"
        },
        "id": "f25864c7",
        "outputId": "050032da-cfd6-4b15-8491-922d831d6c5c"
      },
      "outputs": [
        {
          "output_type": "stream",
          "name": "stdout",
          "text": [
            "Requirement already satisfied: rasterio in /usr/local/lib/python3.10/dist-packages (1.4.3)\n",
            "Requirement already satisfied: affine in /usr/local/lib/python3.10/dist-packages (from rasterio) (2.4.0)\n",
            "Requirement already satisfied: attrs in /usr/local/lib/python3.10/dist-packages (from rasterio) (24.2.0)\n",
            "Requirement already satisfied: certifi in /usr/local/lib/python3.10/dist-packages (from rasterio) (2024.8.30)\n",
            "Requirement already satisfied: click>=4.0 in /usr/local/lib/python3.10/dist-packages (from rasterio) (8.1.7)\n",
            "Requirement already satisfied: cligj>=0.5 in /usr/local/lib/python3.10/dist-packages (from rasterio) (0.7.2)\n",
            "Requirement already satisfied: numpy>=1.24 in /usr/local/lib/python3.10/dist-packages (from rasterio) (1.26.4)\n",
            "Requirement already satisfied: click-plugins in /usr/local/lib/python3.10/dist-packages (from rasterio) (1.1.1)\n",
            "Requirement already satisfied: pyparsing in /usr/local/lib/python3.10/dist-packages (from rasterio) (3.2.0)\n"
          ]
        }
      ],
      "source": [
        "!pip install rasterio\n",
        "from rasterio.transform import Affine\n",
        "import rasterio as rio\n",
        "\n",
        "res = (x[-1] - x[0]) / 240.0\n",
        "transform = Affine.translation(x[0] - res / 2, y[0] - res / 2) * Affine.scale(res, res)\n",
        "\n",
        "# open in 'write' mode, unpack profile info to dst\n",
        "with rio.open(\n",
        "    \"../temp/new_raster.tif\",\n",
        "    \"w\",\n",
        "    driver=\"GTiff\",         # output file type\n",
        "    height=Z.shape[0],      # shape of array\n",
        "    width=Z.shape[1],\n",
        "    count=1,                # number of bands\n",
        "    dtype=Z.dtype,          # output datatype\n",
        "    crs=\"+proj=latlong\",    # CRS\n",
        "    transform=transform,    # location and resolution of upper left cell\n",
        ") as dst:\n",
        "    # check for number of bands\n",
        "    if dst.count == 1:\n",
        "        # write single band\n",
        "        dst.write(Z, 1)\n",
        "    else:\n",
        "        # write each band individually\n",
        "        for band in range(len(Z)):\n",
        "            # write data, band # (starting from 1)\n",
        "            dst.write(Z[band], band + 1)"
      ]
    },
    {
      "source": [
        "import os\n",
        "\n",
        "# Create the directory if it doesn't exist\n",
        "os.makedirs(\"../temp\", exist_ok=True)\n",
        "\n",
        "# ... (rest of your code) ..."
      ],
      "cell_type": "code",
      "metadata": {
        "id": "dOVqK1q5h0Bb"
      },
      "id": "dOVqK1q5h0Bb",
      "execution_count": 26,
      "outputs": []
    },
    {
      "source": [
        "from rasterio.transform import Affine\n",
        "import rasterio as rio\n",
        "\n",
        "res = (x[-1] - x[0]) / 240.0\n",
        "transform = Affine.translation(x[0] - res / 2, y[0] - res / 2) * Affine.scale(res, res)\n",
        "\n",
        "# open in 'write' mode, unpack profile info to dst\n",
        "with rio.open(\n",
        "    \"../temp/new_raster.tif\",\n",
        "    \"w\",\n",
        "    driver=\"GTiff\",         # output file type\n",
        "    height=Z.shape[0],      # shape of array\n",
        "    width=Z.shape[1],\n",
        "    count=1,                # number of bands\n",
        "    dtype=Z.dtype,          # output datatype\n",
        "    crs=\"+proj=latlong\",    # CRS\n",
        "    transform=transform,    # location and resolution of upper left cell\n",
        ") as dst:\n",
        "    # check for number of bands\n",
        "    if dst.count == 1:\n",
        "        # write single band\n",
        "        dst.write(Z, 1)\n",
        "    else:\n",
        "        # write each band individually\n",
        "        for band in range(len(Z)):\n",
        "            # write data, band # (starting from 1)\n",
        "            dst.write(Z[band], band + 1)"
      ],
      "cell_type": "code",
      "metadata": {
        "id": "t4lmcb6mhnpB"
      },
      "id": "t4lmcb6mhnpB",
      "execution_count": 27,
      "outputs": []
    },
    {
      "cell_type": "markdown",
      "id": "2ce41b51",
      "metadata": {
        "id": "2ce41b51"
      },
      "source": [
        "```{note}\n",
        "Raster data is often 'multiband' (e.g. red, green, blue), so I provided code that works for both multiband and single band data.\n",
        "\n",
        "If you are storing multiband data the dimensions should be stored as (band, y, x ).\n",
        "\n",
        "Read more about this here: [Reading & Writing Rasters with Rasterio](e_new_rasters)\n",
        "```"
      ]
    }
  ],
  "metadata": {
    "jupytext": {
      "text_representation": {
        "extension": ".md",
        "format_name": "myst"
      }
    },
    "kernelspec": {
      "display_name": "Python 3",
      "language": "python",
      "name": "python3"
    },
    "language_info": {
      "codemirror_mode": {
        "name": "ipython",
        "version": 3
      },
      "file_extension": ".py",
      "mimetype": "text/x-python",
      "name": "python",
      "nbconvert_exporter": "python",
      "pygments_lexer": "ipython3",
      "version": "3.10.9"
    },
    "myst": {
      "html_meta": {
        "description lang=en": "Learn to create new spatial raster objects, assign projections or CRS.",
        "description lang=es": "Aprenda a crear nuevos objetos ráster, asignar proyecciones o CRS.",
        "description lang=fr": "Apprenez à créer de nouveaux objets raster, à attribuer des projections ou CRS.",
        "keywords": "raster, spatial, shapefile, rasterio, numpy",
        "property=og:locale": "en_US"
      }
    },
    "source_map": [
      17,
      39,
      45,
      49,
      59,
      83,
      111
    ],
    "colab": {
      "provenance": [],
      "include_colab_link": true
    }
  },
  "nbformat": 4,
  "nbformat_minor": 5
}